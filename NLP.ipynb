{
  "nbformat": 4,
  "nbformat_minor": 0,
  "metadata": {
    "colab": {
      "provenance": [],
      "authorship_tag": "ABX9TyNUuwls9anWXJ/HYmAosHIe",
      "include_colab_link": true
    },
    "kernelspec": {
      "name": "python3",
      "display_name": "Python 3"
    },
    "language_info": {
      "name": "python"
    }
  },
  "cells": [
    {
      "cell_type": "markdown",
      "metadata": {
        "id": "view-in-github",
        "colab_type": "text"
      },
      "source": [
        "<a href=\"https://colab.research.google.com/github/121750/Deep-Learning-for-Diversity-Inclusion-in-Media/blob/master/NLP.ipynb\" target=\"_parent\"><img src=\"https://colab.research.google.com/assets/colab-badge.svg\" alt=\"Open In Colab\"/></a>"
      ]
    },
    {
      "cell_type": "code",
      "execution_count": 1,
      "metadata": {
        "id": "yg8_tST-TxYR"
      },
      "outputs": [],
      "source": [
        "# prompt: Import all libraries for performing natural language processing\n",
        "\n",
        "import nltk\n",
        "import spacy\n",
        "import gensim\n",
        "import transformers\n"
      ]
    },
    {
      "cell_type": "code",
      "source": [
        "import pandas as pd\n",
        "import numpy as np\n",
        "from mpl_toolkits.mplot3d import Axes3D\n",
        "import matplotlib.pyplot as plt\n",
        "%matplotlib inline\n",
        "from sklearn.manifold import TSNE\n",
        "from nltk.tokenize import word_tokenize\n",
        "import nltk\n",
        "nltk.download('punkt', quiet=True)\n",
        "np.random.seed(0)"
      ],
      "metadata": {
        "id": "vume94G3UKxP"
      },
      "execution_count": 2,
      "outputs": []
    }
  ]
}